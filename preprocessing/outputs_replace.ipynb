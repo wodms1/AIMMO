{
 "cells": [
  {
   "cell_type": "markdown",
   "id": "991b1dcf",
   "metadata": {},
   "source": [
    "- json 개수 959개 확인\n",
    "- road 개수 959개 확인\n",
    "- camera 개수 959개 확인"
   ]
  },
  {
   "cell_type": "code",
   "execution_count": 8,
   "id": "b71c28d0",
   "metadata": {},
   "outputs": [],
   "source": [
    "new_path = 'G:/ADIN22023_AIMMO_AD/2_PJT/5_Data_Refinement/2_post/2_FromEng/etc%2E/TestCase Opendata GT/20230331/오픈데이터셋'"
   ]
  },
  {
   "cell_type": "code",
   "execution_count": 10,
   "id": "2baf1335",
   "metadata": {},
   "outputs": [],
   "source": [
    "import glob\n",
    "\n",
    "new_list = glob.glob(os.path.join(new_path,'**/*.json'),recursive=True)\n"
   ]
  },
  {
   "cell_type": "code",
   "execution_count": 14,
   "id": "0c0e7759",
   "metadata": {},
   "outputs": [
    {
     "data": {
      "text/plain": [
       "549"
      ]
     },
     "execution_count": 14,
     "metadata": {},
     "output_type": "execute_result"
    }
   ],
   "source": [
    "len(new_list)"
   ]
  },
  {
   "cell_type": "code",
   "execution_count": 1,
   "id": "cb223eca",
   "metadata": {},
   "outputs": [],
   "source": [
    "import json\n",
    "import os\n",
    "import re\n",
    "from tqdm import tqdm\n",
    "\n",
    "except_case = {'update_error':[],'del_error':[]}\n",
    "original_path = 'D:/data/testcase/Typical_case_data/rev2_edit1/label_bb'\n",
    "move_path = 'C:/Users/aimmo-aiy-0169/Desktop/azk'\n",
    "camera_path = \"D:/data/testcase/Typical_case_data/rev2_edit1/new_retouching/TestCase_리터칭 2차 (카메라)\"\n",
    "road_path = \"D:/data/testcase/Typical_case_data/rev2_edit1/new_retouching/TestCase 리터칭 2차 (도로 정보)\"\n",
    "\n",
    "update_key_roots = [road_path,camera_path]\n",
    "\n",
    "# 전체 JSON file을 탐색하고 제너레이터로 1개씩 return\n",
    "def find_json_files_in_directory(original_path):\n",
    "    for root,dirs,files in os.walk(original_path):\n",
    "        for file in files :\n",
    "            if file.endswith('.json'):\n",
    "                yield os.path.join(root,file)\n",
    "                \n",
    "# 이동 경로에 기존 경로와 동일한 폴더 구조들을 생성한다. -> 전체 json file들 구조\n",
    "def create_directory_structure(original_path,move_path):\n",
    "    for root,dirs,files in os.walk(original_path):\n",
    "        new_path = os.path.join(move_path, os.path.relpath(root, original_path))\n",
    "        os.makedirs(new_path,exist_ok=True)\n",
    "\n",
    "        \n",
    "# 옮길 json 파일의 폴더 구조와 동일한 구조를 이동 폴더에 생성 -> 단일 json file 구조        \n",
    "def create_directory(json_file_path,original_path,move_path):\n",
    "    new_path = os.path.dirname(json_file_path.replace(original_path,move_path))\n",
    "    os.makedirs(new_path,exist_ok=True)\n",
    "\n",
    "    \n",
    "# json file에서 key값들 삭제    \n",
    "def delete_keys_from_json(json_data,delete_keys = ['road_type',\"illumination_status\",\"road_status\",\"sensor_status\"]):\n",
    "    try :\n",
    "        for key in delete_keys:\n",
    "            del json_data[key]\n",
    "    except :\n",
    "        except_case['del_error'].append(json_data['parent_path'] + '/' +json_data['filename'])\n",
    "    return json_data\n",
    "\n",
    "# json file에서 key값들 추가\n",
    "def update_keys_from_json(json_data,json_file_path,original_path):\n",
    "    add_keys = []\n",
    "    new_dict = {}\n",
    "    for update_root in update_key_roots:\n",
    "        path = json_file_path.replace(original_path,update_root)\n",
    "        try :\n",
    "            with open(path,'r',encoding='utf-8') as f:\n",
    "                update_json = json.load(f)\n",
    "                add_keys.append(update_json['attributes'])\n",
    "        except :\n",
    "            except_case['update_error'].append( path)\n",
    "       \n",
    "    for key,value in json_data.items():\n",
    "        new_dict[key] = value\n",
    "        if key == 'road_feature':\n",
    "            for add_key,add_value in add_keys[0].items():\n",
    "                new_dict[add_key] = add_value\n",
    "\n",
    "        elif key == 'season':\n",
    "            for add_key,add_value in add_keys[1].items():\n",
    "                new_dict[add_key] = add_value\n",
    "    return new_dict\n",
    "\n",
    "# json file 수정\n",
    "def change_keys_from_json(original_path,move_path):\n",
    "    # 생성경로 directory 생성\n",
    "    create_directory_structure(original_path,move_path)\n",
    "    \n",
    "    # json 읽기\n",
    "    for json_file_path in tqdm(find_json_files_in_directory(original_path)):\n",
    "        with open(json_file_path,'r',encoding='utf-8') as f:\n",
    "            json_data = json.load(f)\n",
    "            \n",
    "            # 특정 key 삭제\n",
    "            json_data = delete_keys_from_json(json_data)\n",
    "                \n",
    "                \n",
    "            # 특정 key 추가\n",
    "            json_file_path=json_file_path.replace('_Bbox_GT','.png')\n",
    "            json_data = update_keys_from_json(json_data,json_file_path,original_path)\n",
    "            \n",
    "        # json 저장\n",
    "        new_path = os.path.join(move_path, os.path.relpath(json_file_path,original_path))\n",
    "        with open(new_path, 'w',encoding='utf-8') as f:\n",
    "            json.dump(json_data, f,ensure_ascii=False, indent=4)"
   ]
  },
  {
   "cell_type": "code",
   "execution_count": null,
   "id": "5c09f642",
   "metadata": {},
   "outputs": [],
   "source": [
    "change_keys_from_json(original_path,move_path)"
   ]
  },
  {
   "cell_type": "code",
   "execution_count": 13,
   "id": "bf4722ae",
   "metadata": {},
   "outputs": [
    {
     "name": "stdout",
     "output_type": "stream",
     "text": [
      "[]\n"
     ]
    },
    {
     "data": {
      "text/plain": [
       "0"
      ]
     },
     "execution_count": 13,
     "metadata": {},
     "output_type": "execute_result"
    }
   ],
   "source": [
    "print(except_case['del_error'])\n",
    "len(except_case['del_error'])"
   ]
  },
  {
   "cell_type": "code",
   "execution_count": 533,
   "id": "515e13f0",
   "metadata": {},
   "outputs": [],
   "source": [
    "# 에러 저장\n",
    "with open('del_error.txt', 'w') as f:\n",
    "    for item in except_case['del_error']:\n",
    "        f.write(\"%s\\n\" % item)"
   ]
  },
  {
   "cell_type": "code",
   "execution_count": null,
   "id": "3b3ef508",
   "metadata": {},
   "outputs": [],
   "source": [
    "import os\n",
    "import json\n",
    "\n",
    "# Traverse the original directory recursively to find all JSON files\n",
    "def find_json_files(directory):\n",
    "    for root, dirs, files in os.walk(directory):\n",
    "        for file in files:\n",
    "            if file.endswith('.json'):\n",
    "                yield os.path.join(root, file)\n",
    "\n",
    "# Create a new directory structure for the JSON files\n",
    "def create_new_directory_structure(directory, new_directory):\n",
    "    for root, dirs, files in os.walk(directory):\n",
    "        for dirr in dirs:\n",
    "            path = os.path.join(new_directory, os.path.relpath(os.path.join(root, dirr), directory))\n",
    "            os.makedirs(path, exist_ok=True)\n",
    "\n",
    "# Copy the JSON files to the new directory structure\n",
    "def copy_json_files(directory, new_directory):\n",
    "    for json_file in find_json_files(directory):\n",
    "        with open(json_file, 'r') as f:\n",
    "            json_data = json.load(f)\n",
    "        \n",
    "        new_path = os.path.join(new_directory, os.path.relpath(json_file, directory))\n",
    "        os.makedirs(os.path.dirname(new_path), exist_ok=True)\n",
    "        \n",
    "        with open(new_path, 'w') as f:\n",
    "            json.dump(json_data, f, indent=4)\n",
    "\n",
    "# Remove empty directories in the new directory structure\n",
    "def remove_empty_directories(directory):\n",
    "    for root, dirs, files in os.walk(directory, topdown=False):\n",
    "        for dir in dirs:\n",
    "            path = os.path.join(root, dir)\n",
    "            if not os.listdir(path):\n",
    "                os.rmdir(path)\n",
    "\n",
    "# Example usage\n",
    "directory = 'path/to/directory'\n",
    "new_directory = 'path/to/new/directory'\n",
    "\n",
    "create_new_directory_structure(directory, new_directory)\n",
    "copy_json_files(directory, new_directory)\n",
    "remove_empty_directories(new_directory)\n"
   ]
  }
 ],
 "metadata": {
  "kernelspec": {
   "display_name": "Python 3 (ipykernel)",
   "language": "python",
   "name": "python3"
  },
  "language_info": {
   "codemirror_mode": {
    "name": "ipython",
    "version": 3
   },
   "file_extension": ".py",
   "mimetype": "text/x-python",
   "name": "python",
   "nbconvert_exporter": "python",
   "pygments_lexer": "ipython3",
   "version": "3.9.13"
  }
 },
 "nbformat": 4,
 "nbformat_minor": 5
}
